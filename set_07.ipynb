{
  "cells": [
    {
      "cell_type": "markdown",
      "metadata": {
        "id": "fGkW4Z7hOYB9"
      },
      "source": [
        "# Q1\n",
        "\n",
        "Consider the probability distribution below:\n",
        "\n",
        "$$P(x) = e^{0.4(x-0.4)^2 - 0.08 x^4}$$\n"
      ],
      "id": "fGkW4Z7hOYB9"
    },
    {
      "cell_type": "markdown",
      "metadata": {
        "id": "zbDSPbGvOYCF"
      },
      "source": [
        "## (a)\n",
        "Write a function to implement Metropolice algorithm to generate random samples that have the same PDF as the given formula."
      ],
      "id": "zbDSPbGvOYCF"
    },
    {
      "cell_type": "code",
      "execution_count": 2,
      "metadata": {
        "id": "h476F1GgOYCG",
        "colab": {
          "base_uri": "https://localhost:8080/"
        },
        "outputId": "d147e1ce-946d-48fe-b524-7ca6c7e4a120"
      },
      "outputs": [
        {
          "output_type": "stream",
          "name": "stderr",
          "text": [
            "/usr/local/lib/python3.7/dist-packages/statsmodels/tools/_testing.py:19: FutureWarning: pandas.util.testing is deprecated. Use the functions in the public API at pandas.testing instead.\n",
            "  import pandas.util.testing as tm\n"
          ]
        }
      ],
      "source": [
        "import numpy as np\n",
        "import matplotlib.pyplot as plt\n",
        "from statsmodels.graphics import tsaplots\n",
        "from scipy import integrate"
      ],
      "id": "h476F1GgOYCG"
    },
    {
      "cell_type": "code",
      "execution_count": null,
      "metadata": {
        "id": "gj3HC3Y-OYCJ"
      },
      "outputs": [],
      "source": [
        "def P(x):\n",
        "    return np.exp((0.4*(x-0.4)**2) -(0.08*x**4))"
      ],
      "id": "gj3HC3Y-OYCJ"
    },
    {
      "cell_type": "code",
      "execution_count": null,
      "metadata": {
        "id": "8eoNJVaHOYCK"
      },
      "outputs": [],
      "source": [
        "def w(x_trial, x_i):\n",
        "    return P(x_i)/ P(x_trial)"
      ],
      "id": "8eoNJVaHOYCK"
    },
    {
      "cell_type": "code",
      "execution_count": null,
      "metadata": {
        "id": "He_jUtL-OYCL"
      },
      "outputs": [],
      "source": [
        "def Metropolice(N_iteration, stepsize, w):\n",
        "    X = []\n",
        "    x_0 = np.random.rand()\n",
        "    for t in range(N_iteration):\n",
        "      x_next = x_0 + np.random.uniform(-stepsize, stepsize)\n",
        "      alpha = min(1, w(x_0, x_next))\n",
        "      u = np.random.rand()\n",
        "      if u <= alpha:\n",
        "        X.append(x_next)\n",
        "        x_0 = x_next\n",
        "      else:\n",
        "        X.append(x_0)\n",
        "    return X"
      ],
      "id": "He_jUtL-OYCL"
    },
    {
      "cell_type": "markdown",
      "metadata": {
        "id": "lUc3W9yWOYCM"
      },
      "source": [
        "## (b)\n",
        "Plot the function alongside with the histogram of the generated sample. Do they match? If not, what shall be done here?"
      ],
      "id": "lUc3W9yWOYCM"
    },
    {
      "cell_type": "code",
      "execution_count": null,
      "metadata": {
        "id": "4aYABtBWOYCO"
      },
      "outputs": [],
      "source": [
        "n = 100000\n",
        "bins = 100\n",
        "pdf = Metropolice(n , 1, w)"
      ],
      "id": "4aYABtBWOYCO"
    },
    {
      "cell_type": "code",
      "source": [
        "x = np.linspace(-3,3, n)\n",
        "norm = integrate.quad(P, -np.inf,np.inf)[0]"
      ],
      "metadata": {
        "id": "S9BpAZPemT8h"
      },
      "id": "S9BpAZPemT8h",
      "execution_count": null,
      "outputs": []
    },
    {
      "cell_type": "code",
      "source": [
        "plt.figure(figsize= (8, 6))\n",
        "plt.hist(pdf, bins = bins,  density = True, label = \"PDF\", color=\"purple\")\n",
        "plt.plot(x, P(x)/norm, 'r', label= \"Normalize function\", color = 'm')\n",
        "plt.legend()\n",
        "plt.show()"
      ],
      "metadata": {
        "colab": {
          "base_uri": "https://localhost:8080/",
          "height": 374
        },
        "id": "D6EqNNVJmV5Q",
        "outputId": "43b4a7d7-2bbc-4b1d-dc43-54b4184372a9"
      },
      "id": "D6EqNNVJmV5Q",
      "execution_count": null,
      "outputs": [
        {
          "output_type": "display_data",
          "data": {
            "text/plain": [
              "<Figure size 576x432 with 1 Axes>"
            ],
            "image/png": "[encoded data removed]"
          },
          "metadata": {
            "needs_background": "light"
          }
        }
      ]
    },
    {
      "cell_type": "markdown",
      "metadata": {
        "id": "RdeWKqiZOYCS"
      },
      "source": [
        "## (c)\n",
        "Generate data using Metropolice algorithm with four different values for step size (0.1, 0.5, 1 and 2) and plot the autocorrelation function for each case. which one becomes uncorrelated sooner?"
      ],
      "id": "RdeWKqiZOYCS"
    },
    {
      "cell_type": "code",
      "source": [
        "y1 = pdf\n",
        "y2 = Metropolice(n , 2, w)\n",
        "y05 = Metropolice(n , 0.5, w)\n",
        "y01 = Metropolice(n , 0.1, w)"
      ],
      "metadata": {
        "id": "hWEzm1Uunhv_"
      },
      "id": "hWEzm1Uunhv_",
      "execution_count": null,
      "outputs": []
    },
    {
      "cell_type": "code",
      "source": [
        "fig, ax = plt.subplots(1,1, figsize= (16,8))\n",
        "tsaplots.plot_acf(y1, ax= ax , lags=100, use_vlines= False, label = \"Step size = 1\")\n",
        "tsaplots.plot_acf(y2, ax = ax, lags=100, use_vlines= False, label = \"Step size = 2\")\n",
        "tsaplots.plot_acf(y05, ax = ax, lags=100, use_vlines= False, label = \"Step size = 0.5\")\n",
        "tsaplots.plot_acf(y01, ax = ax, lags=100, use_vlines= False, label = \"Step size = 0.1\")\n",
        "plt.legend()\n",
        "plt.show()"
      ],
      "metadata": {
        "colab": {
          "base_uri": "https://localhost:8080/",
          "height": 499
        },
        "id": "8fU32nq-oxiQ",
        "outputId": "a1454bee-f526-44ca-f4f6-9a0091463e62"
      },
      "id": "8fU32nq-oxiQ",
      "execution_count": null,
      "outputs": [
        {
          "output_type": "display_data",
          "data": {
            "text/plain": [
              "<Figure size 1152x576 with 1 Axes>"
            ],
            "image/png": "[encoded data removed]"
          },
          "metadata": {
            "needs_background": "light"
          }
        }
      ]
    },
    {
      "cell_type": "markdown",
      "metadata": {
        "id": "SpcHrr_kOYCU"
      },
      "source": [
        "# Q2: Variational Monte Carlo"
      ],
      "id": "SpcHrr_kOYCU"
    },
    {
      "cell_type": "markdown",
      "metadata": {
        "id": "3FII55oZOYCU"
      },
      "source": [
        "Imagine we have a quantum harmonic osscilator were the Hamiltonian is\n",
        "$$\\hat{H} = -\\frac{1}{2}\\frac{d^2}{dx^2} + \\frac{1}{2}x^2 $$\n",
        "\n",
        "In oreder to solve this, we guess a wave function, and then using Monte Carlo methods, we try to find the lowest energy state.\n",
        "\n",
        "Now imagine our wave function is\n",
        "\n",
        "$$ \\psi \\propto e^{-\\lambda x^2} $$\n",
        "\n",
        "Then the local energy of the system at each point would be\n",
        "\n",
        "$$ E_L = \\frac{H \\psi}{\\psi} = \\lambda + x^2 (\\frac{1}{2} - 2\\lambda^2) $$"
      ],
      "id": "3FII55oZOYCU"
    },
    {
      "cell_type": "markdown",
      "metadata": {
        "id": "argDAu19OYCV"
      },
      "source": [
        "## (a)\n",
        "\n",
        "Write a Metropolice algorithm to generate values for $x$ as a function of $\\lambda$. Then plot the PDF alongside with the analitycal function for $P(x) = \\psi^2(x)$ to confirm that they match.\n",
        "\n",
        "P.S. in quantum mechanics, the probability function is always given as $\\psi^2$."
      ],
      "id": "argDAu19OYCV"
    },
    {
      "cell_type": "code",
      "execution_count": null,
      "metadata": {
        "id": "cTvD1UFxOYCW"
      },
      "outputs": [],
      "source": [
        "def P(x, la):\n",
        "    return np.exp(-2 * la *np.power(x,2))"
      ],
      "id": "cTvD1UFxOYCW"
    },
    {
      "cell_type": "code",
      "execution_count": null,
      "metadata": {
        "id": "NxlrP5orOYCW"
      },
      "outputs": [],
      "source": [
        "def Metropolis(N_iteration, P, la):\n",
        "    X = []\n",
        "    x_0 = np.random.rand()\n",
        "    for t in range(N_iteration):\n",
        "      x_next = x_0 + np.random.uniform(-1, 1)\n",
        "      w = P(x_next, la)/P(x_0, la)\n",
        "      alpha = min(1, w)\n",
        "      u = np.random.rand()\n",
        "      if u <= alpha:\n",
        "        X.append(x_next)\n",
        "        x_0 = x_next\n",
        "      else:\n",
        "        X.append(x_0)\n",
        "    return X"
      ],
      "id": "NxlrP5orOYCW"
    },
    {
      "cell_type": "code",
      "execution_count": null,
      "metadata": {
        "id": "Rsr90iG3OYCX"
      },
      "outputs": [],
      "source": [
        "n = 100000\n",
        "bins = 100\n",
        "la = np.random.uniform(0,3)\n",
        "Y = Metropolis(n, P, la)"
      ],
      "id": "Rsr90iG3OYCX"
    },
    {
      "cell_type": "code",
      "source": [
        "x = np.linspace(-2,2, n)\n",
        "norm = integrate.quad(lambda x : P(x,la), -np.inf,np.inf)[0]"
      ],
      "metadata": {
        "id": "b6y2VSfAAQAw"
      },
      "id": "b6y2VSfAAQAw",
      "execution_count": null,
      "outputs": []
    },
    {
      "cell_type": "code",
      "source": [
        "plt.figure(figsize= (8, 6))\n",
        "plt.hist(Y, bins = bins,  density = True, label = \"PDF\", color=\"purple\")\n",
        "np.vectorize(P(Y, la))\n",
        "plt.plot(x,P(x, la)/norm, 'r', label= \"Normalize function\", color = 'm')\n",
        "plt.legend()\n",
        "plt.show()"
      ],
      "metadata": {
        "colab": {
          "base_uri": "https://localhost:8080/",
          "height": 374
        },
        "id": "3JcD_aGqAKcf",
        "outputId": "eafdd528-a72a-4a7b-8448-bfde06c65d37"
      },
      "id": "3JcD_aGqAKcf",
      "execution_count": null,
      "outputs": [
        {
          "output_type": "display_data",
          "data": {
            "text/plain": [
              "<Figure size 576x432 with 1 Axes>"
            ],
            "image/png": "[encoded data removed]"
          },
          "metadata": {
            "needs_background": "light"
          }
        }
      ]
    },
    {
      "cell_type": "markdown",
      "metadata": {
        "id": "a0x_TcuWOYCY"
      },
      "source": [
        "## (b)\n",
        "\n",
        "Write two functions to calculate the expectation value $\\langle E_L \\rangle$ and $\\sigma^2 = \\langle E_L^2 \\rangle - \\langle E_L \\rangle^2$ as a function of $\\lambda$."
      ],
      "id": "a0x_TcuWOYCY"
    },
    {
      "cell_type": "code",
      "execution_count": null,
      "metadata": {
        "id": "nMwL9V5wOYCY"
      },
      "outputs": [],
      "source": [
        "def El(x, la):\n",
        "  return la + np.power(x, 2)*(0.5- 2* la**2)\n",
        "def mean_val(x, la, El):\n",
        "  return np.mean(El(x, la))\n",
        "def var(x, la, El):\n",
        "  return np.var(El(x, la))"
      ],
      "id": "nMwL9V5wOYCY"
    },
    {
      "cell_type": "code",
      "source": [
        "La = np.linspace(0,3, 50)"
      ],
      "metadata": {
        "id": "BvsAvKyCI9NU"
      },
      "id": "BvsAvKyCI9NU",
      "execution_count": null,
      "outputs": []
    },
    {
      "cell_type": "markdown",
      "metadata": {
        "id": "8t87gVofOYCZ"
      },
      "source": [
        "## (c)\n",
        "\n",
        "Generate a uniform sample of values for $\\lambda$, plot the mean and the variance and find the best value for $\\lambda$ (The minimum energy value)."
      ],
      "id": "8t87gVofOYCZ"
    },
    {
      "cell_type": "code",
      "source": [
        "M = []\n",
        "V = []\n",
        "for l in La:\n",
        "  y = Metropolis(n, P, l)\n",
        "  m = mean_val(y, l, El)\n",
        "  v = var(y, l, El)\n",
        "  M.append(m)\n",
        "  V.append(v)"
      ],
      "metadata": {
        "id": "0FjrNtZ-KqCc"
      },
      "id": "0FjrNtZ-KqCc",
      "execution_count": null,
      "outputs": []
    },
    {
      "cell_type": "code",
      "source": [
        "plt.figure(figsize=(18,5))\n",
        "plt.subplot(121)\n",
        "plt.plot(La, M, \".\", color = 'r' )\n",
        "plt.title(\"Mean Values\")\n",
        "plt.ylim(0,8)\n",
        "plt.subplot(122)\n",
        "plt.plot(La, V , \".\", color = 'm')\n",
        "plt.title(\"Variance\")\n",
        "plt.ylim(0, 8)"
      ],
      "metadata": {
        "colab": {
          "base_uri": "https://localhost:8080/",
          "height": 354
        },
        "id": "UIsDV0vmIrhi",
        "outputId": "15eda022-2e61-44fa-c3aa-31b3e015aa12"
      },
      "id": "UIsDV0vmIrhi",
      "execution_count": null,
      "outputs": [
        {
          "output_type": "execute_result",
          "data": {
            "text/plain": [
              "(0.0, 8.0)"
            ]
          },
          "metadata": {},
          "execution_count": 14
        },
        {
          "output_type": "display_data",
          "data": {
            "text/plain": [
              "<Figure size 1296x360 with 2 Axes>"
            ],
            "image/png": "[encoded data removed]"
          },
          "metadata": {
            "needs_background": "light"
          }
        }
      ]
    },
    {
      "cell_type": "markdown",
      "metadata": {
        "id": "44BfR9tFOYCa"
      },
      "source": [
        "## (d)\n",
        "\n",
        "What's the sinificance of $\\sigma^2$? Explain in a few lines in Farsi or English."
      ],
      "id": "44BfR9tFOYCa"
    },
    {
      "cell_type": "markdown",
      "metadata": {
        "id": "kzmtrkhqOYCb"
      },
      "source": [
        "The variance is a numerical value used to indicate how widely individuals in a group vary. If individual observations vary greatly from the group mean, the variance is big; and vice versa.\n",
        "\n",
        "In short, Variance measures how far a data set is spread out."
      ],
      "id": "kzmtrkhqOYCb"
    },
    {
      "cell_type": "markdown",
      "metadata": {
        "id": "svVpx5vhOYCb"
      },
      "source": [
        "# Importance sampling"
      ],
      "id": "svVpx5vhOYCb"
    },
    {
      "cell_type": "markdown",
      "metadata": {
        "id": "2-T5xZIUOYCb"
      },
      "source": [
        "A frequently used method is Importance Sampling. In this method, a proxy distribution is introduced to sample random numbers from any distribution. In most cases, we choose a well-known distribution such as Gaussian distribution, uniform distribution as a proxy distribution. The main concept of this method can be simply written in the following form, where q(x) is a proxy distribution.\n"
      ],
      "id": "2-T5xZIUOYCb"
    },
    {
      "cell_type": "markdown",
      "metadata": {
        "id": "yUherYK5OYCc"
      },
      "source": [
        "![1_nwk7MyNdeFgACxQ832oq8Q.png](attachment:1_nwk7MyNdeFgACxQ832oq8Q.png)"
      ],
      "id": "yUherYK5OYCc"
    },
    {
      "cell_type": "markdown",
      "metadata": {
        "id": "YkfXGP7lOYCc"
      },
      "source": [
        "With Importance Sampling, instead of generating random numbers from p(x), we choose i.i.d samples ${x_i} (i=1,2,…,n)$ from a proxy distribution q(x) and approximate the integration value with the following calculation. Here, p(x)/q(x) is called importance of the sampling."
      ],
      "id": "YkfXGP7lOYCc"
    },
    {
      "cell_type": "markdown",
      "metadata": {
        "id": "OzU8A3LiOYCd"
      },
      "source": [
        "![1_BwRHc3Njf0FbIjhNpYulEg.png](attachment:1_BwRHc3Njf0FbIjhNpYulEg.png)"
      ],
      "id": "OzU8A3LiOYCd"
    },
    {
      "cell_type": "markdown",
      "metadata": {
        "id": "EDqLUfS7OYCd"
      },
      "source": [
        "Now, let’s use a Laplace distribution’ variance calculation as an example.\n",
        "Consider f(x)=x² and a probability density function p(x)=1/2 Exp(-|x|). The distribution with density function like p(x) is called Laplace distribution.\n",
        "If we choose a uniform distribution as a proxy distribution, the variance of the Laplace distribution can be approximately calculated by"
      ],
      "id": "EDqLUfS7OYCd"
    },
    {
      "cell_type": "markdown",
      "metadata": {
        "id": "37Bu4a7JOYCe"
      },
      "source": [
        "![1_JRuYsXh2E5bmPwwa7FzjBg.png](attachment:1_JRuYsXh2E5bmPwwa7FzjBg.png)"
      ],
      "id": "37Bu4a7JOYCe"
    },
    {
      "cell_type": "markdown",
      "metadata": {
        "id": "DqvXS1AUOYCe"
      },
      "source": [
        "![1_J5Us-CZxnvHL-Dd1xzpxBw.png](attachment:1_J5Us-CZxnvHL-Dd1xzpxBw.png)"
      ],
      "id": "DqvXS1AUOYCe"
    },
    {
      "cell_type": "markdown",
      "metadata": {
        "id": "BgQk316vOYCe"
      },
      "source": [
        "With paper and a pencil, we can easily calculate the Var[x]. The value of this calculation is 2. Now confirm the result of the Importance Sampling method."
      ],
      "id": "BgQk316vOYCe"
    },
    {
      "cell_type": "markdown",
      "metadata": {
        "id": "yaFL6-1WOYCe"
      },
      "source": [
        "# Inverse Transform Sampling"
      ],
      "id": "yaFL6-1WOYCe"
    },
    {
      "cell_type": "markdown",
      "metadata": {
        "id": "7kaZrPBPOYCf"
      },
      "source": [
        "In Inverse Transform Sampling method, we use a random number u generated from a 1-dimensional uniform distribution to generate a random number x of any 1-dimensional probability density function p(x). In this case, we use the inverse function of the cumulative distribution function of p(x). If the cumulative distribution function of p(x) is P(x), then the inverse function of u=P(x) is x =P^-1 (u). Now, $x = P^-1 (u)$ has p(x) as probability density function on [0,1]. Therefore, with n samples from uniform distribution on [0,1] ${u_i} (i=1,2,…,n)$, we can generate n sample of p(x) distribution ${x_i} (i=1,2,…,n)$ by calculate $x_i = P^{-1}(u_i)$.\n",
        "\n",
        "Again, let's consider the Laplace distribution’s variance calculation as an example. This time we directly generate random numbers (samples) from the Laplace distribution’s probability density function using the Inverse Transform Sampling method. With these random numbers, we will again recalculate the approximated value of Var[x]."
      ],
      "id": "7kaZrPBPOYCf"
    },
    {
      "cell_type": "markdown",
      "metadata": {
        "id": "NxxTTIlOOYCi"
      },
      "source": [
        "![1_OeecUj7UVwBosCoQSW8GnQ.png](attachment:1_OeecUj7UVwBosCoQSW8GnQ.png)"
      ],
      "id": "NxxTTIlOOYCi"
    },
    {
      "cell_type": "markdown",
      "metadata": {
        "id": "blONU7ArOYCi"
      },
      "source": [
        "Now check the result of this method."
      ],
      "id": "blONU7ArOYCi"
    },
    {
      "cell_type": "code",
      "source": [
        "def laplace(x):\n",
        "    return 0.5*np.exp(-abs(x))\n",
        "  \n",
        "def sgn(x):\n",
        "    if x>0:\n",
        "        return 1\n",
        "    elif x==0:\n",
        "        return 0\n",
        "    else:\n",
        "        return -1\n",
        "\n",
        "def laplace_c(x):\n",
        "    return 0.5*((1+sgn(x))(1-np.exp(-abs(x))))\n",
        "\n",
        "def laplace_1(u):\n",
        "    return -1*sgn(u-0.5)*np.log(1-2*abs(u-0.5))"
      ],
      "metadata": {
        "id": "IcjbztcmbD1L"
      },
      "id": "IcjbztcmbD1L",
      "execution_count": 3,
      "outputs": []
    },
    {
      "cell_type": "code",
      "source": [
        "X = np.random.uniform(0,1,100)\n",
        "Y = []\n",
        "for x in X:\n",
        "  Y.append(laplace_1(x))"
      ],
      "metadata": {
        "id": "ZQ157pY_cS2B"
      },
      "id": "ZQ157pY_cS2B",
      "execution_count": 17,
      "outputs": []
    },
    {
      "cell_type": "code",
      "source": [
        "plt.figure(figsize = (8,6))\n",
        "plt.scatter(Y, np.zeros(100), marker = 'o', color = 'purple')\n",
        "x = np.linspace(-10,10,1000)\n",
        "plt.plot(x,laplace(x), color ='m')\n",
        "plt.show()"
      ],
      "metadata": {
        "colab": {
          "base_uri": "https://localhost:8080/",
          "height": 374
        },
        "id": "MKr7PtHgdqEj",
        "outputId": "377ef255-816c-48fb-ca7e-4165d28ca732"
      },
      "id": "MKr7PtHgdqEj",
      "execution_count": 31,
      "outputs": [
        {
          "output_type": "display_data",
          "data": {
            "text/plain": [
              "<Figure size 576x432 with 1 Axes>"
            ],
            "image/png": "[encoded data removed]"
          },
          "metadata": {
            "needs_background": "light"
          }
        }
      ]
    },
    {
      "cell_type": "code",
      "execution_count": 57,
      "metadata": {
        "id": "KAsQe6-tOYCj"
      },
      "outputs": [],
      "source": [
        "N = np.linspace(10,100000, dtype = np.int64)\n",
        "var = []\n",
        "for n in N:\n",
        "  X = np.random.uniform(0,1,n)\n",
        "  Y = []\n",
        "  for x in X:\n",
        "    Y.append(laplace_1(x))\n",
        "  var.append(np.array(Y).var())"
      ],
      "id": "KAsQe6-tOYCj"
    },
    {
      "cell_type": "code",
      "source": [
        "plt.figure(figsize = (8,6))\n",
        "plt.plot(N,var, color = \"b\")\n",
        "plt.hlines(2, xmin=0, xmax= 100000, color = 'r')\n",
        "plt.show()"
      ],
      "metadata": {
        "colab": {
          "base_uri": "https://localhost:8080/",
          "height": 378
        },
        "id": "_vnJUn9yn6oe",
        "outputId": "924be9a5-e870-4493-a933-a404bdf213ce"
      },
      "id": "_vnJUn9yn6oe",
      "execution_count": 58,
      "outputs": [
        {
          "output_type": "display_data",
          "data": {
            "text/plain": [
              "<Figure size 576x432 with 1 Axes>"
            ],
            "image/png": "[encoded data removed]"
          },
          "metadata": {
            "needs_background": "light"
          }
        }
      ]
    },
    {
      "cell_type": "markdown",
      "metadata": {
        "id": "eYJzcf33OYCj"
      },
      "source": [
        "# Rejection Sampling "
      ],
      "id": "eYJzcf33OYCj"
    },
    {
      "cell_type": "markdown",
      "metadata": {
        "id": "ptbb08lNOYCj"
      },
      "source": [
        "![1_CmlQbGdECPyfM5vZeEkHUg.png](attachment:1_CmlQbGdECPyfM5vZeEkHUg.png)"
      ],
      "id": "ptbb08lNOYCj"
    },
    {
      "cell_type": "markdown",
      "metadata": {
        "id": "Gk1HXC6BOYCj"
      },
      "source": [
        "The idea in Rejection Sampling is to use a proxy distribution (Gaussian or uniform distribution, etc.) called q(x) to generate a random number and use another uniform distribution to evaluate the generated sample whether or not to accept it as a sample generated from p(x). With this method, we can also generate random numbers from a higher dimensional distribution.\n",
        "\n",
        "As preparation in generating random numbers with this method, we need to know a finite value of L where max[p(x)/q(x)] < L. Here, q(x) is a proxy distribution.\n",
        "\n",
        "First, we generate a random number x’ from a proxy distribution q(x). This x’ is called a proposal point.<br>\n",
        "Next, generate a random number v from a uniform distribution on [0, L]. This v will be used to evaluate the proposal point, whether to be fine considering generated from p(x).<br>\n",
        "If v ≤ p(x’)/q(x’), then x’ is accepted as a random number generated by p(x), else, x’ is rejected.\n",
        "The algorithm in generating n random numbers with Rejection Sampling is"
      ],
      "id": "Gk1HXC6BOYCj"
    },
    {
      "cell_type": "markdown",
      "metadata": {
        "id": "nawEQ1RvOYCk"
      },
      "source": [
        "![1_ZkD77xvkprPSVe36-ao9SQ.png](attachment:1_ZkD77xvkprPSVe36-ao9SQ.png)"
      ],
      "id": "nawEQ1RvOYCk"
    },
    {
      "cell_type": "markdown",
      "metadata": {
        "id": "2d-TJPtOOYCk"
      },
      "source": [
        "Now use rejection sampling method to evaluate the variance of Laplace Distribution."
      ],
      "id": "2d-TJPtOOYCk"
    },
    {
      "cell_type": "code",
      "source": [
        "def rejection(n):\n",
        "  X = []\n",
        "  for i in range(n):\n",
        "    x_0 = np.random.normal()\n",
        "    v = np.random.uniform(0,1)\n",
        "    w = laplace(x_0)/np.random.normal(x_0)\n",
        "    if v < w:\n",
        "      X.append(x_0)\n",
        "  return X"
      ],
      "metadata": {
        "id": "i5bRJGTXqVEd"
      },
      "id": "i5bRJGTXqVEd",
      "execution_count": 6,
      "outputs": []
    },
    {
      "cell_type": "code",
      "source": [
        "Y = rejection(1000)"
      ],
      "metadata": {
        "id": "tinNhwZwzd8V"
      },
      "id": "tinNhwZwzd8V",
      "execution_count": 19,
      "outputs": []
    },
    {
      "cell_type": "code",
      "source": [
        "plt.figure(figsize = (8,6))\n",
        "plt.scatter(Y, np.zeros(len(Y)), marker = 'o', color = 'purple')\n",
        "x = np.linspace(-10,10,1000)\n",
        "plt.plot(x,laplace(x), color ='m')\n",
        "plt.show()"
      ],
      "metadata": {
        "colab": {
          "base_uri": "https://localhost:8080/",
          "height": 374
        },
        "id": "Q0WZttbg0W2z",
        "outputId": "239d0b94-eee7-45f4-a0cd-a952aab37594"
      },
      "id": "Q0WZttbg0W2z",
      "execution_count": 20,
      "outputs": [
        {
          "output_type": "display_data",
          "data": {
            "text/plain": [
              "<Figure size 576x432 with 1 Axes>"
            ],
            "image/png": "[encoded data removed]"
          },
          "metadata": {
            "needs_background": "light"
          }
        }
      ]
    },
    {
      "cell_type": "code",
      "source": [
        "N = np.linspace(10,100000, dtype = np.int64)\n",
        "var = []\n",
        "for n in N:\n",
        "  Y = rejection(n)\n",
        "  var.append(np.array(Y).var())"
      ],
      "metadata": {
        "id": "8nTKVxLF2nL6"
      },
      "id": "8nTKVxLF2nL6",
      "execution_count": 23,
      "outputs": []
    },
    {
      "cell_type": "code",
      "source": [
        "plt.figure(figsize = (8,6))\n",
        "plt.plot(N,var, color = \"b\")\n",
        "plt.hlines(2, xmin=0, xmax= 100000, color = 'r')\n",
        "plt.show()"
      ],
      "metadata": {
        "colab": {
          "base_uri": "https://localhost:8080/",
          "height": 374
        },
        "id": "iLd8o4sb3SxS",
        "outputId": "12fbbf4c-3a74-4430-9588-56feacc0f79b"
      },
      "id": "iLd8o4sb3SxS",
      "execution_count": 24,
      "outputs": [
        {
          "output_type": "display_data",
          "data": {
            "text/plain": [
              "<Figure size 576x432 with 1 Axes>"
            ],
            "image/png": "[encoded data removed]"
          },
          "metadata": {
            "needs_background": "light"
          }
        }
      ]
    },
    {
      "cell_type": "markdown",
      "metadata": {
        "id": "U5H8veX3OYCl"
      },
      "source": [
        "# Markov Chain Monte carlo method(MCMC)"
      ],
      "id": "U5H8veX3OYCl"
    },
    {
      "cell_type": "markdown",
      "metadata": {
        "id": "RKuMuqx7OYCl"
      },
      "source": [
        "In the Rejection sampling method, it is impossible to generate random numbers when the upper boundary L is not known. MCMC method is an effective solution to this problem. MCMC method uses the concept of a stochastic process (Markov chain in this case). In this case, the generation of i-th sample $x_i$ depends on the previous sample $x_{i-1}$. ${x_1, x_2, …,x_n}$ with this concept is called a Markov chain. Here, I introduce one of the MCMC methods, the Metropolis-Hastings method.<br>\n",
        "\n",
        "The process in this method is similar to Rejection sampling. But here, a proxy distribution density function is represented by a conditional probability $q(x|x_i)$, and the evaluation index v is generated from a uniform distribution on [0,1].<br>\n",
        "\n",
        "First, we generate a random number x’ from a proxy distribution $q(x|x_i)$. This x’ is called a proposal point.<br>\n",
        "Next, generate a random number v from a uniform distribution on [0, 1]. This v will be used to evaluate the proposal point, whether to be fine considering generated from p(x).<br>\n",
        "If $v ≤ p(x’)q(x_i|x’)/(p(x_i)q(x’|x_i))$, then x’ is accepted as a random number generated by p(x), else, x’ is rejected.<br>\n",
        "The algorithm in generating n random numbers with Rejection Sampling is"
      ],
      "id": "RKuMuqx7OYCl"
    },
    {
      "cell_type": "markdown",
      "metadata": {
        "id": "2bgjycA6OYCl"
      },
      "source": [
        "![1_smfr3QVGxDzcGUFUKFqvhQ.png](attachment:1_smfr3QVGxDzcGUFUKFqvhQ.png)"
      ],
      "id": "2bgjycA6OYCl"
    },
    {
      "cell_type": "markdown",
      "metadata": {
        "id": "oyu83R8VOYCl"
      },
      "source": [
        "Now use MCMC to calculate the variance of Laplace Distribution."
      ],
      "id": "oyu83R8VOYCl"
    },
    {
      "cell_type": "code",
      "execution_count": 36,
      "metadata": {
        "id": "VDplyPFXOYCm"
      },
      "outputs": [],
      "source": [
        "def MCMC(N, P):\n",
        "  X = []\n",
        "  x_0 = np.random.rand()\n",
        "  for t in range(N):\n",
        "    x_next = np.random.normal(x_0)\n",
        "    alpha = min(1, P(x_next)/P(x_0))\n",
        "    u = np.random.rand()\n",
        "    if u <= alpha:\n",
        "      X.append(x_next)\n",
        "      x_0 = x_next\n",
        "    else:\n",
        "      X.append(x_0)\n",
        "    return X"
      ],
      "id": "VDplyPFXOYCm"
    },
    {
      "cell_type": "code",
      "source": [
        "X = np.random.uniform(0,1,100)\n",
        "Y = []\n",
        "for x in X:\n",
        "  Y.append(MCMC(1000, laplace))"
      ],
      "metadata": {
        "id": "5ZWDLIrP6L7d"
      },
      "id": "5ZWDLIrP6L7d",
      "execution_count": 44,
      "outputs": []
    },
    {
      "cell_type": "code",
      "source": [
        "plt.figure(figsize = (8,6))\n",
        "plt.scatter(Y, np.zeros(100), marker = 'o', color = 'purple')\n",
        "x = np.linspace(-10,10,1000)\n",
        "plt.plot(x,laplace(x), color ='m')\n",
        "plt.show()"
      ],
      "metadata": {
        "colab": {
          "base_uri": "https://localhost:8080/",
          "height": 374
        },
        "id": "2g8QV_tV5Pm8",
        "outputId": "00440585-a6e2-4189-fa99-87e791d19e21"
      },
      "id": "2g8QV_tV5Pm8",
      "execution_count": 45,
      "outputs": [
        {
          "output_type": "display_data",
          "data": {
            "text/plain": [
              "<Figure size 576x432 with 1 Axes>"
            ],
            "image/png": "[encoded data removed]"
          },
          "metadata": {
            "needs_background": "light"
          }
        }
      ]
    },
    {
      "cell_type": "code",
      "source": [
        "N = np.linspace(10,100000, dtype = np.int64)\n",
        "var = []\n",
        "for n in N:\n",
        "  X = np.random.uniform(0,1,n)\n",
        "  Y = []\n",
        "  for x in X:\n",
        "    Y.append(MCMC(1000, laplace))\n",
        "  var.append(np.array(Y).var())"
      ],
      "metadata": {
        "id": "b74d8Wim5Wet"
      },
      "id": "b74d8Wim5Wet",
      "execution_count": 51,
      "outputs": []
    },
    {
      "cell_type": "code",
      "source": [
        "plt.figure(figsize = (8,6))\n",
        "plt.plot(N,var, color = \"b\")\n",
        "plt.hlines(2, xmin=0, xmax= 100000, color = 'r')\n",
        "plt.show()"
      ],
      "metadata": {
        "colab": {
          "base_uri": "https://localhost:8080/",
          "height": 374
        },
        "id": "7IQ9IMEt6skU",
        "outputId": "6993d429-388e-4a4a-ee3d-d301d07093a5"
      },
      "id": "7IQ9IMEt6skU",
      "execution_count": 52,
      "outputs": [
        {
          "output_type": "display_data",
          "data": {
            "text/plain": [
              "<Figure size 576x432 with 1 Axes>"
            ],
            "image/png": "[encoded data removed]"
          },
          "metadata": {
            "needs_background": "light"
          }
        }
      ]
    }
  ],
  "metadata": {
    "hide_input": false,
    "kernelspec": {
      "display_name": "Python 3",
      "language": "python",
      "name": "python3"
    },
    "language_info": {
      "codemirror_mode": {
        "name": "ipython",
        "version": 3
      },
      "file_extension": ".py",
      "mimetype": "text/x-python",
      "name": "python",
      "nbconvert_exporter": "python",
      "pygments_lexer": "ipython3",
      "version": "3.8.5"
    },
    "toc": {
      "base_numbering": 1,
      "nav_menu": {},
      "number_sections": true,
      "sideBar": true,
      "skip_h1_title": false,
      "title_cell": "Table of Contents",
      "title_sidebar": "Contents",
      "toc_cell": false,
      "toc_position": {},
      "toc_section_display": true,
      "toc_window_display": false
    },
    "colab": {
      "name": "set_07.ipynb",
      "provenance": [],
      "collapsed_sections": []
    }
  },
  "nbformat": 4,
  "nbformat_minor": 5
}